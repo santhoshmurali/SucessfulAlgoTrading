{
 "cells": [
  {
   "cell_type": "code",
   "execution_count": 3,
   "metadata": {},
   "outputs": [],
   "source": [
    "import pandas as pd\n",
    "import numpy as npp\n",
    "import yfinance as yf\n",
    "import requests\n",
    "import datetime"
   ]
  },
  {
   "cell_type": "code",
   "execution_count": 54,
   "metadata": {},
   "outputs": [],
   "source": [
    "#Common Configs\n",
    "n50_output_data_path_base = r'.\\data\\n50.csv'\n",
    "n50_output_data_path_detailed = r'.\\data\\n50_detailed.csv'\n",
    "excluded_keys_info = ['companyOfficers']\n"
   ]
  },
  {
   "cell_type": "code",
   "execution_count": 4,
   "metadata": {},
   "outputs": [
    {
     "name": "stdout",
     "output_type": "stream",
     "text": [
      "Download successful\n"
     ]
    }
   ],
   "source": [
    "# Downlaod the latest data\n",
    "headers = {\n",
    "    'User-Agent': 'Mozilla/5.0 (Windows NT 10.0; Win64; x64) AppleWebKit/537.36 (KHTML, like Gecko) Chrome/130.0.0.0 Safari/537.36'\n",
    "}\n",
    "\n",
    "response = requests.get(\"https://www.niftyindices.com/IndexConstituent/ind_nifty50list.csv\", headers=headers)\n",
    "if response.status_code == 200:\n",
    "    with open(n50_output_data_path_base, 'wb') as f:\n",
    "        f.write(response.content)\n",
    "    print(\"Download successful\")\n",
    "else:\n",
    "    print(\"Failed to download:\", response.status_code)"
   ]
  },
  {
   "cell_type": "code",
   "execution_count": 5,
   "metadata": {},
   "outputs": [],
   "source": [
    "n50 = pd.read_csv(r'.\\data\\n50.csv')"
   ]
  },
  {
   "cell_type": "code",
   "execution_count": 20,
   "metadata": {},
   "outputs": [],
   "source": [
    "def without_keys(d,keys):\n",
    "    return {x:d[x] for x in d if x not in keys}"
   ]
  },
  {
   "cell_type": "code",
   "execution_count": 53,
   "metadata": {},
   "outputs": [],
   "source": [
    "pd.DataFrame([without_keys(yf.Ticker(x+'.NS').info,excluded_keys_info) for x in n50['Symbol']]).to_csv(n50_output_data_path_detailed)"
   ]
  },
  {
   "cell_type": "code",
   "execution_count": null,
   "metadata": {},
   "outputs": [],
   "source": []
  }
 ],
 "metadata": {
  "kernelspec": {
   "display_name": "sat_b",
   "language": "python",
   "name": "python3"
  },
  "language_info": {
   "codemirror_mode": {
    "name": "ipython",
    "version": 3
   },
   "file_extension": ".py",
   "mimetype": "text/x-python",
   "name": "python",
   "nbconvert_exporter": "python",
   "pygments_lexer": "ipython3",
   "version": "3.12.7"
  }
 },
 "nbformat": 4,
 "nbformat_minor": 2
}
