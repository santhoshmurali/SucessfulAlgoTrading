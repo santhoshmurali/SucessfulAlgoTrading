{
 "cells": [
  {
   "cell_type": "code",
   "execution_count": null,
   "metadata": {},
   "outputs": [
    {
     "name": "stderr",
     "output_type": "stream",
     "text": [
      "d:\\Apps\\miniconda\\envs\\dhan_env\\Lib\\site-packages\\dhanhq\\dhanhq.py:1053: DtypeWarning: Columns (14,15) have mixed types. Specify dtype option on import or set low_memory=False.\n",
      "  df = pd.read_csv(filename)\n"
     ]
    },
    {
     "ename": "AttributeError",
     "evalue": "'DataFrame' object has no attribute 'Age'",
     "output_type": "error",
     "traceback": [
      "\u001b[1;31m---------------------------------------------------------------------------\u001b[0m",
      "\u001b[1;31mAttributeError\u001b[0m                            Traceback (most recent call last)",
      "\u001b[1;32m~\\AppData\\Local\\Temp\\ipykernel_16080\\448110730.py\u001b[0m in \u001b[0;36m?\u001b[1;34m()\u001b[0m\n\u001b[0;32m     49\u001b[0m \u001b[0mfiltered_df\u001b[0m\u001b[1;33m[\u001b[0m\u001b[1;34m'SEM_UNDERLYING'\u001b[0m\u001b[1;33m]\u001b[0m \u001b[1;33m=\u001b[0m \u001b[1;33m[\u001b[0m\u001b[0mx\u001b[0m\u001b[1;33m[\u001b[0m\u001b[1;36m0\u001b[0m\u001b[1;33m]\u001b[0m \u001b[1;32mfor\u001b[0m \u001b[0mx\u001b[0m \u001b[1;32min\u001b[0m \u001b[0mfiltered_df\u001b[0m\u001b[1;33m.\u001b[0m\u001b[0mSEM_CUSTOM_SYMBOL\u001b[0m\u001b[1;33m.\u001b[0m\u001b[0mstr\u001b[0m\u001b[1;33m.\u001b[0m\u001b[0msplit\u001b[0m\u001b[1;33m(\u001b[0m\u001b[1;34m' '\u001b[0m\u001b[1;33m)\u001b[0m\u001b[1;33m]\u001b[0m\u001b[1;33m\u001b[0m\u001b[1;33m\u001b[0m\u001b[0m\n\u001b[0;32m     50\u001b[0m \u001b[0mfiltered_df\u001b[0m\u001b[1;33m[\u001b[0m\u001b[1;34m'Rank'\u001b[0m\u001b[1;33m]\u001b[0m \u001b[1;33m=\u001b[0m \u001b[0mfiltered_df\u001b[0m\u001b[1;33m.\u001b[0m\u001b[0mgroupby\u001b[0m\u001b[1;33m(\u001b[0m\u001b[1;34m'SEM_UNDERLYING'\u001b[0m\u001b[1;33m)\u001b[0m\u001b[1;33m[\u001b[0m\u001b[1;34m'SEM_EXPIRY_DATE_CUSTOM'\u001b[0m\u001b[1;33m]\u001b[0m\u001b[1;33m.\u001b[0m\u001b[0mrank\u001b[0m\u001b[1;33m(\u001b[0m\u001b[0mmethod\u001b[0m\u001b[1;33m=\u001b[0m\u001b[1;34m'dense'\u001b[0m\u001b[1;33m,\u001b[0m \u001b[0mascending\u001b[0m\u001b[1;33m=\u001b[0m\u001b[1;32mTrue\u001b[0m\u001b[1;33m)\u001b[0m\u001b[1;33m\u001b[0m\u001b[1;33m\u001b[0m\u001b[0m\n\u001b[0;32m     51\u001b[0m \u001b[1;33m\u001b[0m\u001b[0m\n\u001b[0;32m     52\u001b[0m \u001b[0mfiltered_df\u001b[0m\u001b[1;33m[\u001b[0m\u001b[1;34m'Series'\u001b[0m\u001b[1;33m]\u001b[0m \u001b[1;33m=\u001b[0m \u001b[0mfiltered_df\u001b[0m\u001b[1;33m[\u001b[0m\u001b[1;34m'Rank'\u001b[0m\u001b[1;33m]\u001b[0m\u001b[1;33m.\u001b[0m\u001b[0mapply\u001b[0m\u001b[1;33m(\u001b[0m\u001b[0moption_age\u001b[0m\u001b[1;33m)\u001b[0m\u001b[1;33m\u001b[0m\u001b[1;33m\u001b[0m\u001b[0m\n\u001b[1;32m---> 53\u001b[1;33m \u001b[0mfiltered_df\u001b[0m \u001b[1;33m=\u001b[0m \u001b[0mfiltered_df\u001b[0m\u001b[1;33m[\u001b[0m\u001b[1;33m(\u001b[0m\u001b[0mfiltered_df\u001b[0m\u001b[1;33m.\u001b[0m\u001b[0mAge\u001b[0m \u001b[1;33m!=\u001b[0m \u001b[1;34m'F'\u001b[0m\u001b[1;33m)\u001b[0m\u001b[1;33m]\u001b[0m \u001b[1;31m# We are removing the Farnext sereies due to better memory management\u001b[0m\u001b[1;33m\u001b[0m\u001b[1;33m\u001b[0m\u001b[0m\n\u001b[0m\u001b[0;32m     54\u001b[0m \u001b[0mfiltered_df\u001b[0m\u001b[1;33m[\u001b[0m\u001b[1;33m[\u001b[0m\u001b[1;34m'SEM_SMST_SECURITY_ID'\u001b[0m\u001b[1;33m,\u001b[0m\u001b[1;34m'SEM_LOT_UNITS'\u001b[0m\u001b[1;33m,\u001b[0m\u001b[1;34m'SEM_CUSTOM_SYMBOL'\u001b[0m\u001b[1;33m,\u001b[0m\u001b[1;34m'SEM_STRIKE_PRICE'\u001b[0m\u001b[1;33m,\u001b[0m\u001b[1;34m'SEM_OPTION_TYPE'\u001b[0m\u001b[1;33m,\u001b[0m\u001b[1;34m'SEM_UNDERLYING'\u001b[0m\u001b[1;33m,\u001b[0m\u001b[1;34m'Age'\u001b[0m\u001b[1;33m]\u001b[0m\u001b[1;33m]\u001b[0m\u001b[1;33m.\u001b[0m\u001b[0mto_excel\u001b[0m\u001b[1;33m(\u001b[0m\u001b[0moptions\u001b[0m\u001b[1;33m,\u001b[0m\u001b[0mindex\u001b[0m\u001b[1;33m=\u001b[0m\u001b[1;32mFalse\u001b[0m\u001b[1;33m)\u001b[0m\u001b[1;33m\u001b[0m\u001b[1;33m\u001b[0m\u001b[0m\n\u001b[0;32m     55\u001b[0m \u001b[1;33m\u001b[0m\u001b[0m\n\u001b[0;32m     56\u001b[0m \u001b[1;31m# Filter for only NIFTY and BANKNIFTY INDEX\u001b[0m\u001b[1;33m\u001b[0m\u001b[1;33m\u001b[0m\u001b[0m\n",
      "\u001b[1;32md:\\Apps\\miniconda\\envs\\dhan_env\\Lib\\site-packages\\pandas\\core\\generic.py\u001b[0m in \u001b[0;36m?\u001b[1;34m(self, name)\u001b[0m\n\u001b[0;32m   6295\u001b[0m             \u001b[1;32mand\u001b[0m \u001b[0mname\u001b[0m \u001b[1;32mnot\u001b[0m \u001b[1;32min\u001b[0m \u001b[0mself\u001b[0m\u001b[1;33m.\u001b[0m\u001b[0m_accessors\u001b[0m\u001b[1;33m\u001b[0m\u001b[1;33m\u001b[0m\u001b[0m\n\u001b[0;32m   6296\u001b[0m             \u001b[1;32mand\u001b[0m \u001b[0mself\u001b[0m\u001b[1;33m.\u001b[0m\u001b[0m_info_axis\u001b[0m\u001b[1;33m.\u001b[0m\u001b[0m_can_hold_identifiers_and_holds_name\u001b[0m\u001b[1;33m(\u001b[0m\u001b[0mname\u001b[0m\u001b[1;33m)\u001b[0m\u001b[1;33m\u001b[0m\u001b[1;33m\u001b[0m\u001b[0m\n\u001b[0;32m   6297\u001b[0m         \u001b[1;33m)\u001b[0m\u001b[1;33m:\u001b[0m\u001b[1;33m\u001b[0m\u001b[1;33m\u001b[0m\u001b[0m\n\u001b[0;32m   6298\u001b[0m             \u001b[1;32mreturn\u001b[0m \u001b[0mself\u001b[0m\u001b[1;33m[\u001b[0m\u001b[0mname\u001b[0m\u001b[1;33m]\u001b[0m\u001b[1;33m\u001b[0m\u001b[1;33m\u001b[0m\u001b[0m\n\u001b[1;32m-> 6299\u001b[1;33m         \u001b[1;32mreturn\u001b[0m \u001b[0mobject\u001b[0m\u001b[1;33m.\u001b[0m\u001b[0m__getattribute__\u001b[0m\u001b[1;33m(\u001b[0m\u001b[0mself\u001b[0m\u001b[1;33m,\u001b[0m \u001b[0mname\u001b[0m\u001b[1;33m)\u001b[0m\u001b[1;33m\u001b[0m\u001b[1;33m\u001b[0m\u001b[0m\n\u001b[0m",
      "\u001b[1;31mAttributeError\u001b[0m: 'DataFrame' object has no attribute 'Age'"
     ]
    }
   ],
   "source": [
    "from dhanhq import dhanhq\n",
    "import yaml\n",
    "import pandas  as pd\n",
    "import numpy as np\n",
    "\n",
    "## Authentication\n",
    "CONFIG_FILE_PATH = r\"..\\\\configs\\\\config.yaml\"\n",
    "with open(CONFIG_FILE_PATH,'r') as config:\n",
    "    api_config = yaml.safe_load(config)\n",
    "APPLICAITON_ID = api_config.get('api_config')[0]\n",
    "CLIENT_ID = api_config.get('api_config')[1]\n",
    "ACCESS_TOKEN = api_config.get('api_config')[2]\n",
    "EXP_HOURS = api_config.get('api_config')[3]\n",
    "\n",
    "dhan = dhanhq(CLIENT_ID,ACCESS_TOKEN)\n",
    "\n",
    "## Loading other configuration \n",
    "OTHER_CONFIG_FILE_PATH = r\"..\\\\configs\\\\other_config.yaml\" # This we will configure all other variables\n",
    "with open(OTHER_CONFIG_FILE_PATH,'r') as other_configs:\n",
    "    gen_config = yaml.safe_load(other_configs)\n",
    "underlying = gen_config.get('index_file_metadata')\n",
    "options = gen_config.get('options_file_metadata')\n",
    "\n",
    "# functions\n",
    "def option_age(x): #this function will classify the options strike if it belongs to Curent series, Next series or Far next.\n",
    "    if x == 1.0:\n",
    "        return 'C' # Current series\n",
    "    elif x == 2.0 :\n",
    "        return 'N' # Next Seroes\n",
    "    else :\n",
    "        return 'F' # Far next series\n",
    "\n",
    "# Load the latest keys and sripts metadata automatically\n",
    "security_list = dhan.fetch_security_list(\"compact\")\n",
    "\n",
    "# Filter for only NIFTY and BANKNIFTY OPTIONS\n",
    "#---------------------------------------------\n",
    "filtered_df = security_list[(security_list['SEM_EXM_EXCH_ID'] == 'NSE') & \n",
    "(security_list['SEM_INSTRUMENT_NAME'] == 'OPTIDX') & \n",
    "((security_list['SEM_TRADING_SYMBOL'].str.startswith('BANKNIFTY')) |\n",
    "(security_list['SEM_TRADING_SYMBOL'].str.startswith('NIFTY')))\n",
    "&\n",
    "(security_list['SEM_TRADING_SYMBOL'].str.startswith('NIFTYNXT50')==False)]\n",
    "\n",
    "filtered_df = filtered_df.copy() # We are copying as a new instance to avoid slice warning\n",
    "# Belo logic will help us to classify the Series type\n",
    "filtered_df['SEM_EXPIRY_DATE_CUSTOM'] = np.nan\n",
    "filtered_df['SEM_EXPIRY_DATE_CUSTOM'] = pd.to_datetime(filtered_df.SEM_EXPIRY_DATE)\n",
    "filtered_df['SEM_UNDERLYING'] = [x[0] for x in filtered_df.SEM_CUSTOM_SYMBOL.str.split(' ')]\n",
    "filtered_df['Rank'] = filtered_df.groupby('SEM_UNDERLYING')['SEM_EXPIRY_DATE_CUSTOM'].rank(method='dense', ascending=True)\n",
    "\n",
    "filtered_df['Series'] = filtered_df['Rank'].apply(option_age)\n",
    "filtered_df = filtered_df[(filtered_df.Age != 'F')] # We are removing the Farnext sereies due to better memory management\n",
    "filtered_df[['SEM_SMST_SECURITY_ID','SEM_LOT_UNITS','SEM_CUSTOM_SYMBOL','SEM_STRIKE_PRICE','SEM_OPTION_TYPE','SEM_UNDERLYING','Series']].to_excel(options,index=False)\n",
    "\n",
    "# Filter for only NIFTY and BANKNIFTY INDEX\n",
    "#---------------------------------------------\n",
    "filtered_df_index = security_list[(security_list['SEM_INSTRUMENT_NAME'] == 'INDEX') & (\n",
    "    (security_list['SEM_TRADING_SYMBOL']=='BANKNIFTY')\n",
    "    |\n",
    "    (security_list['SEM_TRADING_SYMBOL']=='NIFTY')\n",
    ")\n",
    "&\n",
    "(security_list['SEM_SEGMENT']=='I')]\n",
    "\n",
    "filtered_df_index[['SEM_SMST_SECURITY_ID','SEM_TRADING_SYMBOL']].to_excel(underlying,index=False)"
   ]
  },
  {
   "cell_type": "code",
   "execution_count": null,
   "metadata": {},
   "outputs": [],
   "source": []
  }
 ],
 "metadata": {
  "kernelspec": {
   "display_name": "dhan_env",
   "language": "python",
   "name": "python3"
  },
  "language_info": {
   "codemirror_mode": {
    "name": "ipython",
    "version": 3
   },
   "file_extension": ".py",
   "mimetype": "text/x-python",
   "name": "python",
   "nbconvert_exporter": "python",
   "pygments_lexer": "ipython3",
   "version": "3.13.0"
  }
 },
 "nbformat": 4,
 "nbformat_minor": 2
}
