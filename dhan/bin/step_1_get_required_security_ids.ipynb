{
 "cells": [
  {
   "cell_type": "code",
   "execution_count": 94,
   "metadata": {},
   "outputs": [],
   "source": [
    "from dhanhq import dhanhq\n",
    "import yaml\n",
    "import pandas  as pd\n",
    "import numpy as np\n"
   ]
  },
  {
   "cell_type": "code",
   "execution_count": 95,
   "metadata": {},
   "outputs": [],
   "source": [
    "\n",
    "## Authentication\n",
    "CONFIG_FILE_PATH = r\"..\\\\configs\\\\config.yaml\"\n",
    "with open(CONFIG_FILE_PATH,'r') as config:\n",
    "    api_config = yaml.safe_load(config)\n",
    "APPLICAITON_ID = api_config.get('api_config')[0]\n",
    "CLIENT_ID = api_config.get('api_config')[1]\n",
    "ACCESS_TOKEN = api_config.get('api_config')[2]\n",
    "EXP_HOURS = api_config.get('api_config')[3]\n",
    "\n",
    "dhan = dhanhq(CLIENT_ID,ACCESS_TOKEN)\n"
   ]
  },
  {
   "cell_type": "code",
   "execution_count": 96,
   "metadata": {},
   "outputs": [],
   "source": [
    "\n",
    "## Loading other configuration \n",
    "OTHER_CONFIG_FILE_PATH = r\"..\\\\configs\\\\other_config.yaml\" # This we will configure all other variables\n",
    "with open(OTHER_CONFIG_FILE_PATH,'r') as other_configs:\n",
    "    gen_config = yaml.safe_load(other_configs)\n",
    "underlying = gen_config.get('index_file_metadata')\n",
    "options = gen_config.get('options_file_metadata')\n"
   ]
  },
  {
   "cell_type": "code",
   "execution_count": 97,
   "metadata": {},
   "outputs": [],
   "source": [
    "\n",
    "# functions\n",
    "def option_age(x): #this function will classify the options strike if it belongs to Curent series, Next series or Far next.\n",
    "    if x == 1.0:\n",
    "        return 'C' # Current series\n",
    "    elif x == 2.0 :\n",
    "        return 'N' # Next Seroes\n",
    "    else :\n",
    "        return 'F' # Far next series\n",
    "\n"
   ]
  },
  {
   "cell_type": "code",
   "execution_count": 98,
   "metadata": {},
   "outputs": [
    {
     "name": "stderr",
     "output_type": "stream",
     "text": [
      "d:\\Miniconda\\envs\\dhan\\Lib\\site-packages\\dhanhq\\dhanhq.py:1053: DtypeWarning: Columns (14,15) have mixed types. Specify dtype option on import or set low_memory=False.\n",
      "  df = pd.read_csv(filename)\n"
     ]
    }
   ],
   "source": [
    "# Load the latest keys and sripts metadata automatically\n",
    "security_list = dhan.fetch_security_list(\"compact\")\n"
   ]
  },
  {
   "cell_type": "code",
   "execution_count": 99,
   "metadata": {},
   "outputs": [],
   "source": [
    "\n",
    "# Filter for only NIFTY and BANKNIFTY OPTIONS and MCX\n",
    "#---------------------------------------------\n",
    "NSE=security_list[(\n",
    "(security_list['SEM_EXM_EXCH_ID'] == 'NSE') & \n",
    "(security_list['SEM_INSTRUMENT_NAME'] == 'OPTIDX') & \n",
    "((security_list['SEM_TRADING_SYMBOL'].str.startswith('BANKNIFTY')) | (security_list['SEM_TRADING_SYMBOL'].str.startswith('NIFTY')))\n",
    "&\n",
    "(security_list['SEM_TRADING_SYMBOL'].str.startswith('NIFTYNXT50')==False)\n",
    ")]\n",
    "\n",
    "MCX= security_list[(security_list['SEM_EXM_EXCH_ID'] == 'MCX') & (security_list['SEM_INSTRUMENT_NAME'] == 'OPTFUT') & (security_list['SM_SYMBOL_NAME']=='CRUDEOIL')]\n",
    "\n",
    "filtered_df = pd.concat([NSE,MCX])\n",
    "\n",
    "filtered_df = filtered_df.copy() # We are copying as a new instance to avoid slice warning\n"
   ]
  },
  {
   "cell_type": "code",
   "execution_count": 100,
   "metadata": {},
   "outputs": [],
   "source": [
    "# Below logic will help us to classify the Series type\n",
    "filtered_df['SEM_EXPIRY_DATE_CUSTOM'] = np.nan\n",
    "filtered_df['SEM_EXPIRY_DATE_CUSTOM'] = pd.to_datetime(filtered_df.SEM_EXPIRY_DATE)\n",
    "filtered_df['SEM_UNDERLYING'] = [x[0] for x in filtered_df.SEM_CUSTOM_SYMBOL.str.split(' ')]\n",
    "filtered_df['Rank'] = filtered_df.groupby('SEM_UNDERLYING')['SEM_EXPIRY_DATE_CUSTOM'].rank(method='dense', ascending=True)\n",
    "\n",
    "filtered_df['Series'] = filtered_df['Rank'].apply(option_age)\n",
    "\n"
   ]
  },
  {
   "cell_type": "code",
   "execution_count": 101,
   "metadata": {},
   "outputs": [],
   "source": [
    "#for MCX we are restricting to current month contract only due to liquidity\n",
    "filtered_df = filtered_df[((filtered_df['SEM_EXM_EXCH_ID']=='MCX') & (filtered_df['Series']=='C')) | (filtered_df.Series != 'F')] # We are removing the Farnext sereies due to better memory management\n",
    "filtered_df[['SEM_SMST_SECURITY_ID','SEM_LOT_UNITS','SEM_CUSTOM_SYMBOL','SEM_STRIKE_PRICE','SEM_OPTION_TYPE','SEM_UNDERLYING','Series']].to_excel(options,index=False)"
   ]
  },
  {
   "cell_type": "code",
   "execution_count": 102,
   "metadata": {},
   "outputs": [],
   "source": [
    "#------------------------------------\n",
    "# index\n",
    "#------------------------------------\n",
    "mcx_fut =  security_list[(security_list['SEM_EXM_EXCH_ID']=='MCX') & (security_list['SM_SYMBOL_NAME']=='CRUDEOIL') & (security_list['SEM_INSTRUMENT_NAME']=='FUTCOM')]\n",
    "index = security_list[(security_list['SEM_INSTRUMENT_NAME'] == 'INDEX') & (\n",
    "    (security_list['SEM_TRADING_SYMBOL']=='BANKNIFTY')\n",
    "    |\n",
    "    (security_list['SEM_TRADING_SYMBOL']=='NIFTY')\n",
    ")\n",
    "&\n",
    "(security_list['SEM_SEGMENT']=='I')]\n",
    "filtered_df_index = pd.concat([mcx_fut,index])\n",
    "filtered_df_index = filtered_df_index.copy()\n",
    "filtered_df_index['SEM_TRADING_SYMBOL']= [x[0] for x in filtered_df_index.SEM_TRADING_SYMBOL.str.split('-')]"
   ]
  },
  {
   "cell_type": "code",
   "execution_count": 103,
   "metadata": {},
   "outputs": [],
   "source": [
    "filtered_df_index['Rank'] = filtered_df_index.groupby('SEM_EXM_EXCH_ID')['SEM_EXPIRY_DATE'].rank(method='dense', ascending=True)"
   ]
  },
  {
   "cell_type": "code",
   "execution_count": 104,
   "metadata": {},
   "outputs": [],
   "source": [
    "filtered_df_index = filtered_df_index[(filtered_df_index['Rank']==1.0) | (np.isnan(filtered_df_index['Rank']))]"
   ]
  },
  {
   "cell_type": "code",
   "execution_count": 105,
   "metadata": {},
   "outputs": [],
   "source": [
    "filtered_df_index[['SEM_SMST_SECURITY_ID','SEM_TRADING_SYMBOL']].to_excel(underlying,index=False)"
   ]
  },
  {
   "cell_type": "code",
   "execution_count": null,
   "metadata": {},
   "outputs": [],
   "source": []
  }
 ],
 "metadata": {
  "kernelspec": {
   "display_name": "dhan",
   "language": "python",
   "name": "python3"
  },
  "language_info": {
   "codemirror_mode": {
    "name": "ipython",
    "version": 3
   },
   "file_extension": ".py",
   "mimetype": "text/x-python",
   "name": "python",
   "nbconvert_exporter": "python",
   "pygments_lexer": "ipython3",
   "version": "3.13.0"
  }
 },
 "nbformat": 4,
 "nbformat_minor": 2
}
