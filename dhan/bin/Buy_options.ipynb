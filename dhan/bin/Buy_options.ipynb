{
 "cells": [
  {
   "cell_type": "code",
   "execution_count": 1,
   "metadata": {},
   "outputs": [],
   "source": [
    "from dhanhq import dhanhq\n",
    "import yaml\n",
    "import pandas  as pd\n",
    "import numpy as np\n",
    "import time\n",
    "import math\n",
    "\n",
    "\n"
   ]
  },
  {
   "cell_type": "markdown",
   "metadata": {},
   "source": [
    "## Authentication"
   ]
  },
  {
   "cell_type": "code",
   "execution_count": 397,
   "metadata": {},
   "outputs": [],
   "source": [
    "CONFIG_FILE_PATH = r\"..\\\\configs\\\\config.yaml\" #This has the API key and client id\n",
    "with open(CONFIG_FILE_PATH,'r') as config:\n",
    "    api_config = yaml.safe_load(config)\n",
    "APPLICAITON_ID = api_config.get('api_config')[0]\n",
    "CLIENT_ID = api_config.get('api_config')[1]\n",
    "ACCESS_TOKEN = api_config.get('api_config')[2]\n",
    "EXP_HOURS = api_config.get('api_config')[3]\n",
    "dhan = dhanhq(CLIENT_ID,ACCESS_TOKEN)"
   ]
  },
  {
   "cell_type": "markdown",
   "metadata": {},
   "source": [
    "## Getting other variables from configuration"
   ]
  },
  {
   "cell_type": "code",
   "execution_count": 365,
   "metadata": {},
   "outputs": [],
   "source": [
    "OTHER_CONFIG_FILE_PATH = r\"..\\\\configs\\\\other_config.yaml\" # This we will configure all other variables\n",
    "with open(OTHER_CONFIG_FILE_PATH,'r') as other_configs:\n",
    "    gen_config = yaml.safe_load(other_configs)"
   ]
  },
  {
   "cell_type": "code",
   "execution_count": 366,
   "metadata": {},
   "outputs": [],
   "source": [
    "underlying = gen_config.get('index_file_metadata')\n",
    "options = gen_config.get('options_file_metadata')\n",
    "trade_segment = gen_config.get('trade_segment')\n"
   ]
  },
  {
   "cell_type": "code",
   "execution_count": 367,
   "metadata": {},
   "outputs": [],
   "source": [
    "underlying_file = pd.read_excel('underlying.xlsx')\n",
    "options_file = pd.read_excel('Options.xlsx')\n"
   ]
  },
  {
   "cell_type": "code",
   "execution_count": 379,
   "metadata": {},
   "outputs": [],
   "source": [
    "### Constant we are setting for that Options\n",
    "UNDERLYING_INDEX = trade_segment['CRUDEOIL']['Name']\n",
    "strike_size = trade_segment[UNDERLYING_INDEX]['StrikeSize']\n",
    "index_segment = trade_segment[UNDERLYING_INDEX]['INDEX_SEG']\n",
    "options_segment = trade_segment[UNDERLYING_INDEX]['OPTIONS_SEGMENT']\n",
    "CAPITAL = 100000"
   ]
  },
  {
   "cell_type": "code",
   "execution_count": null,
   "metadata": {},
   "outputs": [],
   "source": []
  },
  {
   "cell_type": "markdown",
   "metadata": {},
   "source": [
    "### GET ITM ID"
   ]
  },
  {
   "cell_type": "code",
   "execution_count": 369,
   "metadata": {},
   "outputs": [],
   "source": [
    "def get_index_ltp(dhanO, INDEX):\n",
    "    INDEX_ID = str(underlying_file.loc[(underlying_file.SEM_TRADING_SYMBOL == INDEX),['SEM_SMST_SECURITY_ID']].squeeze())\n",
    "    INDEX_LTP = dhanO.ohlc_data(securities = {f\"{index_segment}\":[int(INDEX_ID)]})['data']['data'][f'{index_segment}'][f'{INDEX_ID}']['last_price']\n",
    "    return INDEX_LTP\n"
   ]
  },
  {
   "cell_type": "code",
   "execution_count": 370,
   "metadata": {},
   "outputs": [],
   "source": [
    "def get_itm_strikes(spot,side,depth):\n",
    "    i = -1*depth if side==\"PE\" else depth\n",
    "    strike = int((spot- spot%strike_size)-(i*strike_size))\n",
    "    return(strike)\n",
    "    "
   ]
  },
  {
   "cell_type": "code",
   "execution_count": 371,
   "metadata": {},
   "outputs": [],
   "source": [
    "def get_strike_id_lot_size(underlying,strike,side,series):\n",
    "    return(options_file.loc[(options_file['SEM_UNDERLYING'] ==underlying) & (options_file['SEM_STRIKE_PRICE']==strike) & (options_file['SEM_OPTION_TYPE']==side) & (options_file['Series']==series),['SEM_SMST_SECURITY_ID','SEM_LOT_UNITS']].to_dict(orient='records')[0])"
   ]
  },
  {
   "cell_type": "code",
   "execution_count": 372,
   "metadata": {},
   "outputs": [],
   "source": [
    "def get_options_ltp(dhanO,segment,strike_id, strike,capital,profit_multiple=1, stoploss_multiple=1):\n",
    "    time.sleep(1)\n",
    "    ohlc = dhanO.ticker_data(securities={f'{segment}':[strike_id]})\n",
    "    ltp = ohlc['data']['data'][segment][f'{strike_id}']['last_price']\n",
    "    profit=ltp*(1+profit_multiple*(1/100))\n",
    "    sl=ltp*(1-stoploss_multiple*(1/100))\n",
    "    qty = int(capital/ltp)\n",
    "    return({'status':'success',\n",
    "            'segment':segment,\n",
    "             'strike':strike,\n",
    "             'strike_id':strike_id,\n",
    "             'qty':qty,\n",
    "             'ltp':ltp,\n",
    "             'profit':profit,\n",
    "             'sl':sl\n",
    "    })"
   ]
  },
  {
   "cell_type": "code",
   "execution_count": 384,
   "metadata": {},
   "outputs": [
    {
     "data": {
      "text/plain": [
       "217.404"
      ]
     },
     "execution_count": 384,
     "metadata": {},
     "output_type": "execute_result"
    }
   ],
   "source": [
    "219.60*(1-(1*(1/100)))"
   ]
  },
  {
   "cell_type": "code",
   "execution_count": 392,
   "metadata": {},
   "outputs": [],
   "source": [
    "# placing order for MCX is differet than NIFTY Options\n",
    "# MCX \n",
    "def place_limit_order_MCX(UNDERLYINGIDX,side,series,depth,trans=\"BUY\", cap=CAPITAL, test=True):\n",
    "    trans_type=dhanhq.BUY if trans == \"BUY\" else dhanhq.SELL\n",
    "    exg_sgmt = dhanhq.MCX\n",
    "    spot = get_index_ltp(dhan,UNDERLYING_INDEX ) # this will get the spot price\n",
    "    strike = get_itm_strikes(spot,side,depth)  # this will get the strikr price\n",
    "    strike_id_lotsize = get_strike_id_lot_size(UNDERLYING_INDEX,strike,side,series) # this will get Dhan Script ID for that strike and also LOT Size: We will be using it for placing order.\n",
    "    strike_id = strike_id_lotsize['SEM_SMST_SECURITY_ID']\n",
    "    lot_size = strike_id_lotsize['SEM_LOT_UNITS']\n",
    "    price = get_options_ltp(dhan,options_segment,strike_id,strike,cap,1,1) # We will get the price, quantity and BO prices\n",
    "    # Quantity shoul dbe divided by 100 and round it to integer.\n",
    "    qty = int(price['qty']/100)\n",
    "    entry_price = np.round(price['ltp'],1)\n",
    "    sl = np.round(price['sl'],1)\n",
    "    profit = np.round(price['profit'],1)\n",
    "    print(entry_price)\n",
    "    print(profit)\n",
    "    sl_limit = sl - 0.3\n",
    "    print(sl_limit)\n",
    "    print(sl)\n",
    "\n",
    "    # Placing the Buy Order\n",
    "    buy_order_results = dhan.place_order(\n",
    "         transaction_type=trans_type,\n",
    "         exchange_segment=exg_sgmt,\n",
    "         product_type=dhanhq.INTRA,\n",
    "         order_type=dhanhq.LIMIT,\n",
    "         validity=dhanhq.DAY,\n",
    "         security_id=strike_id,\n",
    "         quantity=1 if test else qty,\n",
    "         price=entry_price,\n",
    "         #bo_profit_value=price['profit'],\n",
    "         #bo_stop_loss_Value=price['sl']\n",
    "         )\n",
    "    time.sleep(1)\n",
    "\n",
    "    #Placing the Exit Orders\n",
    "    if buy_order_results['status']=='success':\n",
    "       sell_order_sl = dhan.place_order(\n",
    "         transaction_type=dhanhq.SELL,\n",
    "         exchange_segment=exg_sgmt,\n",
    "         product_type=dhanhq.INTRA,\n",
    "         order_type=dhanhq.SL,\n",
    "         validity=dhanhq.DAY,\n",
    "         security_id=strike_id,\n",
    "         quantity=1 if test else qty,\n",
    "         price=sl_limit,\n",
    "         trigger_price =sl,\n",
    "         tag=\"sl\"\n",
    "\n",
    "         )\n",
    "       sell_order_profit = dhan.place_order(\n",
    "         transaction_type=dhanhq.SELL,\n",
    "         exchange_segment=exg_sgmt,\n",
    "         product_type=dhanhq.INTRA,\n",
    "         order_type=dhanhq.LIMIT,\n",
    "         validity=dhanhq.DAY,\n",
    "         security_id=strike_id,\n",
    "         quantity=1 if test else qty,\n",
    "         price=profit,\n",
    "         tag=\"profit\"\n",
    "         )\n",
    "    overall_order_status = {'entry':buy_order_results,'sl':sell_order_sl,'profit':sell_order_profit}\n",
    "    \n",
    "    # Order Management\n",
    "    entry_order_id = overall_order_status['entry']['data']['orderId']\n",
    "    sl_order_id = overall_order_status['sl']['data']['orderId']\n",
    "    profit_order_id = overall_order_status['profit']['data']['orderId']\n",
    "    if (overall_order_status['entry']['status']=='success' and overall_order_status['sl']['status']=='success' and overall_order_status['profit']['status']=='success'):\n",
    "      k = True\n",
    "      while True and k:\n",
    "         time.sleep(3)\n",
    "         sl_order_details = dhan.get_order_by_id(sl_order_id)['data'][0]['orderStatus']\n",
    "         profit_order_details = dhan.get_order_by_id(profit_order_id)['data'][0]['orderStatus']\n",
    "         if sl_order_details == 'TRADED':\n",
    "            canelled_profit_order = dhan.cancel_order(profit_order_id)\n",
    "            canelled_sl_order =''\n",
    "            capital_protection_exit = ''\n",
    "            k=False\n",
    "         if profit_order_details == 'TRADED':\n",
    "            canelled_sl_order = dhan.cancel_order(sl_order_id)\n",
    "            canelled_profit_order = ''\n",
    "            capital_protection_exit = ''\n",
    "            k=False\n",
    "    else:\n",
    "      sl_order_details = dhan.get_order_by_id(sl_order_id)['data'][0]['orderStatus']\n",
    "      profit_order_details = dhan.get_order_by_id(profit_order_id)['data'][0]['orderStatus']\n",
    "      entry_order_details = dhan.get_order_by_id(entry_order_id)['data'][0]['orderStatus']\n",
    "      if (sl_order_details == 'REJECTED' or sl_order_details == 'CANCELLED') :\n",
    "        canelled_profit_order = dhan.cancel_order(profit_order_id)\n",
    "        canelled_sl_order = ''\n",
    "        capital_protection_exit = ''\n",
    "      if (profit_order_details == 'REJECTED'  or profit_order_details == 'CANCELLED'):\n",
    "        canelled_sl_order = dhan.cancel_order(sl_order_id)\n",
    "        canelled_profit_order = ''\n",
    "        capital_protection_exit = ''\n",
    "      if entry_order_details == 'TRADED':\n",
    "        capital_protection_exit =  dhan.place_order(\n",
    "          transaction_type=dhanhq.SELL,\n",
    "          exchange_segment=exg_sgmt,\n",
    "          product_type=dhanhq.INTRA,\n",
    "          order_type=dhanhq.MARKET,\n",
    "          validity=dhanhq.DAY,\n",
    "          security_id=strike_id,\n",
    "          quantity=1 if test else qty,\n",
    "          price=0,\n",
    "          )\n",
    "      \n",
    "    \n",
    "    #Outut\n",
    "    order_exits = {\n",
    "       'sl_canceled':canelled_sl_order,\n",
    "       'profit_canceled':canelled_profit_order,\n",
    "       'capital_protection_exit':capital_protection_exit\n",
    "\n",
    "       \n",
    "    }\n",
    "    \n",
    "    print(\"Order Entry\", overall_order_status)\n",
    "    print(\"Order Management\", order_exits)\n",
    "#     if(overall_order_status['entry']])\n",
    "         \n",
    "\n",
    "    return {'entries':overall_order_status,'order_management':order_exits}\n",
    "\n"
   ]
  },
  {
   "cell_type": "code",
   "execution_count": null,
   "metadata": {},
   "outputs": [],
   "source": [
    "def place_bo_order_FNO(UNDERLYINGIDX,side,series,depth,trans=\"BUY\", cap=CAPITAL, test=True):\n",
    "    trans_type=dhanhq.BUY if trans == \"BUY\" else dhanhq.SELL\n",
    "    exg_sgmt = dhanhq.NSE_FNO\n",
    "    spot = get_index_ltp(dhan,UNDERLYING_INDEX ) # this will get the spot price\n",
    "    strike = get_itm_strikes(spot,side,depth)  # this will get the strikr price\n",
    "    strike_id_lotsize = get_strike_id_lot_size(UNDERLYING_INDEX,strike,side,series) # this will get Dhan Script ID for that strike and also LOT Size: We will be using it for placing order.\n",
    "    strike_id = strike_id_lotsize['SEM_SMST_SECURITY_ID']\n",
    "    print(strike_id)\n",
    "    lot_size = strike_id_lotsize['SEM_LOT_UNITS']\n",
    "    price = get_options_ltp(dhan,options_segment,strike_id,strike,cap,1,1) # We will get the price, quantity and BO prices\n",
    "    # Quantity shoul dbe divided by 100 and round it to integer.\n",
    "    qty = int(cap/price['ltp']/lot_size)*lot_size\n",
    "    entry_price = np.round(price['ltp'],1)-0.05\n",
    "    sl = entry_price - np.round(price['sl'],1)-0.05\n",
    "    profit = np.round(price['profit'],1)+0.05 - entry_price\n",
    "\n",
    "    # Placing the Buy Order\n",
    "\n",
    "    buy_order_results = dhan.place_slice_order(\n",
    "         transaction_type=trans_type,\n",
    "         exchange_segment=exg_sgmt,\n",
    "         product_type=dhanhq.BO,\n",
    "         order_type=dhanhq.LIMIT,\n",
    "         validity=dhanhq.DAY,\n",
    "         security_id=strike_id,\n",
    "         quantity=lot_size if test else qty,\n",
    "         price=entry_price,\n",
    "         bo_profit_value=profit,\n",
    "         bo_stop_loss_Value=sl\n",
    "         )\n",
    "\n",
    "    return(buy_order_results)"
   ]
  },
  {
   "cell_type": "code",
   "execution_count": 387,
   "metadata": {},
   "outputs": [
    {
     "data": {
      "text/plain": [
       "194.04"
      ]
     },
     "execution_count": 387,
     "metadata": {},
     "output_type": "execute_result"
    }
   ],
   "source": [
    "196*(1-(1*(1/100)))"
   ]
  },
  {
   "cell_type": "code",
   "execution_count": 393,
   "metadata": {},
   "outputs": [
    {
     "name": "stdout",
     "output_type": "stream",
     "text": [
      "194.4\n",
      "196.3\n",
      "192.2\n",
      "192.5\n",
      "Order Entry {'entry': {'status': 'success', 'remarks': '', 'data': {'orderId': '48112211245213', 'orderStatus': 'TRANSIT'}}, 'sl': {'status': 'success', 'remarks': '', 'data': {'orderId': '18112211248613', 'orderStatus': 'TRANSIT'}}, 'profit': {'status': 'success', 'remarks': '', 'data': {'orderId': '58112211247113', 'orderStatus': 'TRANSIT'}}}\n",
      "Order Management {'sl_canceled': '', 'profit_canceled': {'status': 'success', 'remarks': '', 'data': {'orderId': '58112211247113', 'orderStatus': 'CANCELLED'}}, 'capital_protection_exit': ''}\n"
     ]
    }
   ],
   "source": [
    "orders= place_limit_order_MCX(UNDERLYING_INDEX,'PE','C',1,\"BUY\")\n"
   ]
  },
  {
   "cell_type": "code",
   "execution_count": 376,
   "metadata": {},
   "outputs": [
    {
     "name": "stdout",
     "output_type": "stream",
     "text": [
      "42935\n"
     ]
    }
   ],
   "source": [
    "orders = place_bo_order_FNO(UNDERLYING_INDEX,'CE','C',1,\"BUY\")"
   ]
  },
  {
   "cell_type": "code",
   "execution_count": 394,
   "metadata": {},
   "outputs": [
    {
     "data": {
      "text/plain": [
       "{'entries': {'entry': {'status': 'success',\n",
       "   'remarks': '',\n",
       "   'data': {'orderId': '48112211245213', 'orderStatus': 'TRANSIT'}},\n",
       "  'sl': {'status': 'success',\n",
       "   'remarks': '',\n",
       "   'data': {'orderId': '18112211248613', 'orderStatus': 'TRANSIT'}},\n",
       "  'profit': {'status': 'success',\n",
       "   'remarks': '',\n",
       "   'data': {'orderId': '58112211247113', 'orderStatus': 'TRANSIT'}}},\n",
       " 'order_management': {'sl_canceled': '',\n",
       "  'profit_canceled': {'status': 'success',\n",
       "   'remarks': '',\n",
       "   'data': {'orderId': '58112211247113', 'orderStatus': 'CANCELLED'}},\n",
       "  'capital_protection_exit': ''}}"
      ]
     },
     "execution_count": 394,
     "metadata": {},
     "output_type": "execute_result"
    }
   ],
   "source": [
    "orders"
   ]
  },
  {
   "cell_type": "code",
   "execution_count": 340,
   "metadata": {},
   "outputs": [
    {
     "data": {
      "text/plain": [
       "500"
      ]
     },
     "execution_count": 340,
     "metadata": {},
     "output_type": "execute_result"
    }
   ],
   "source": [
    "int(100000/194/25)*25"
   ]
  },
  {
   "cell_type": "code",
   "execution_count": 361,
   "metadata": {},
   "outputs": [
    {
     "data": {
      "text/plain": [
       "221.3"
      ]
     },
     "execution_count": 361,
     "metadata": {},
     "output_type": "execute_result"
    }
   ],
   "source": [
    "dhan.ticker_data(securities={'NSE_FNO':[42935]})['data']['data']['NSE_FNO']['42935']['last_price']\n",
    "\n"
   ]
  },
  {
   "cell_type": "code",
   "execution_count": 391,
   "metadata": {},
   "outputs": [
    {
     "data": {
      "text/plain": [
       "mappingproxy({'__module__': 'dhanhq.dhanhq',\n",
       "              '__firstlineno__': 18,\n",
       "              '__doc__': 'DhanHQ Class to interact with REST APIs',\n",
       "              'NSE': 'NSE_EQ',\n",
       "              'BSE': 'BSE_EQ',\n",
       "              'CUR': 'NSE_CURRENCY',\n",
       "              'MCX': 'MCX_COMM',\n",
       "              'FNO': 'NSE_FNO',\n",
       "              'NSE_FNO': 'NSE_FNO',\n",
       "              'BSE_FNO': 'BSE_FNO',\n",
       "              'INDEX': 'IDX_I',\n",
       "              'BUY': 'BUY',\n",
       "              'SELL': 'SELL',\n",
       "              'CNC': 'CNC',\n",
       "              'INTRA': 'INTRADAY',\n",
       "              'MARGIN': 'MARGIN',\n",
       "              'CO': 'CO',\n",
       "              'BO': 'BO',\n",
       "              'MTF': 'MTF',\n",
       "              'LIMIT': 'LIMIT',\n",
       "              'MARKET': 'MARKET',\n",
       "              'SL': 'STOP_LOSS',\n",
       "              'SLM': 'STOP_LOSS_MARKET',\n",
       "              'DAY': 'DAY',\n",
       "              'IOC': 'IOC',\n",
       "              'COMPACT_CSV_URL': 'https://images.dhan.co/api-data/api-scrip-master.csv',\n",
       "              'DETAILED_CSV_URL': 'https://images.dhan.co/api-data/api-scrip-master-detailed.csv',\n",
       "              '__init__': <function dhanhq.dhanhq.dhanhq.__init__(self, client_id, access_token, disable_ssl=False, pool=None)>,\n",
       "              '_parse_response': <function dhanhq.dhanhq.dhanhq._parse_response(self, response)>,\n",
       "              'get_order_list': <function dhanhq.dhanhq.dhanhq.get_order_list(self)>,\n",
       "              'get_order_by_id': <function dhanhq.dhanhq.dhanhq.get_order_by_id(self, order_id)>,\n",
       "              'get_order_by_correlationID': <function dhanhq.dhanhq.dhanhq.get_order_by_correlationID(self, correlationID)>,\n",
       "              'modify_order': <function dhanhq.dhanhq.dhanhq.modify_order(self, order_id, order_type, leg_name, quantity, price, trigger_price, disclosed_quantity, validity)>,\n",
       "              'cancel_order': <function dhanhq.dhanhq.dhanhq.cancel_order(self, order_id)>,\n",
       "              'place_order': <function dhanhq.dhanhq.dhanhq.place_order(self, security_id, exchange_segment, transaction_type, quantity, order_type, product_type, price, trigger_price=0, disclosed_quantity=0, after_market_order=False, validity='DAY', amo_time='OPEN', bo_profit_value=None, bo_stop_loss_Value=None, tag=None)>,\n",
       "              'place_slice_order': <function dhanhq.dhanhq.dhanhq.place_slice_order(self, security_id, exchange_segment, transaction_type, quantity, order_type, product_type, price, trigger_price=0, disclosed_quantity=0, after_market_order=False, validity='DAY', amo_time='OPEN', bo_profit_value=None, bo_stop_loss_Value=None, tag=None)>,\n",
       "              'get_positions': <function dhanhq.dhanhq.dhanhq.get_positions(self)>,\n",
       "              'get_holdings': <function dhanhq.dhanhq.dhanhq.get_holdings(self)>,\n",
       "              'convert_position': <function dhanhq.dhanhq.dhanhq.convert_position(self, from_product_type, exchange_segment, position_type, security_id, convert_qty, to_product_type)>,\n",
       "              'place_forever': <function dhanhq.dhanhq.dhanhq.place_forever(self, security_id, exchange_segment, transaction_type, product_type, order_type, quantity, price, trigger_Price, order_flag='SINGLE', disclosed_quantity=0, validity='DAY', price1=0, trigger_Price1=0, quantity1=0, tag=None, symbol='')>,\n",
       "              'modify_forever': <function dhanhq.dhanhq.dhanhq.modify_forever(self, order_id, order_flag, order_type, leg_name, quantity, price, trigger_price, disclosed_quantity, validity)>,\n",
       "              'cancel_forever': <function dhanhq.dhanhq.dhanhq.cancel_forever(self, order_id)>,\n",
       "              'get_forever': <function dhanhq.dhanhq.dhanhq.get_forever(self)>,\n",
       "              'generate_tpin': <function dhanhq.dhanhq.dhanhq.generate_tpin(self)>,\n",
       "              'open_browser_for_tpin': <function dhanhq.dhanhq.dhanhq.open_browser_for_tpin(self, isin, qty, exchange, segment='EQ', bulk=False)>,\n",
       "              'edis_inquiry': <function dhanhq.dhanhq.dhanhq.edis_inquiry(self, isin)>,\n",
       "              'kill_switch': <function dhanhq.dhanhq.dhanhq.kill_switch(self, action)>,\n",
       "              'get_fund_limits': <function dhanhq.dhanhq.dhanhq.get_fund_limits(self)>,\n",
       "              'margin_calculator': <function dhanhq.dhanhq.dhanhq.margin_calculator(self, security_id, exchange_segment, transaction_type, quantity, product_type, price, trigger_price=0)>,\n",
       "              'get_trade_book': <function dhanhq.dhanhq.dhanhq.get_trade_book(self, order_id=None)>,\n",
       "              'get_trade_history': <function dhanhq.dhanhq.dhanhq.get_trade_history(self, from_date, to_date, page_number=0)>,\n",
       "              'ledger_report': <function dhanhq.dhanhq.dhanhq.ledger_report(self, from_date, to_date)>,\n",
       "              'intraday_minute_data': <function dhanhq.dhanhq.dhanhq.intraday_minute_data(self, security_id, exchange_segment, instrument_type, from_date, to_date, interval=1)>,\n",
       "              'historical_daily_data': <function dhanhq.dhanhq.dhanhq.historical_daily_data(self, security_id, exchange_segment, instrument_type, from_date, to_date, expiry_code=0)>,\n",
       "              'ticker_data': <function dhanhq.dhanhq.dhanhq.ticker_data(self, securities)>,\n",
       "              'ohlc_data': <function dhanhq.dhanhq.dhanhq.ohlc_data(self, securities)>,\n",
       "              'quote_data': <function dhanhq.dhanhq.dhanhq.quote_data(self, securities)>,\n",
       "              'fetch_security_list': <function dhanhq.dhanhq.dhanhq.fetch_security_list(self, mode='compact', filename='security_id_list.csv')>,\n",
       "              'option_chain': <function dhanhq.dhanhq.dhanhq.option_chain(self, under_security_id, under_exchange_segment, expiry)>,\n",
       "              'expiry_list': <function dhanhq.dhanhq.dhanhq.expiry_list(self, under_security_id, under_exchange_segment)>,\n",
       "              'convert_to_date_time': <function dhanhq.dhanhq.dhanhq.convert_to_date_time(self, epoch)>,\n",
       "              '__static_attributes__': ('access_token',\n",
       "               'base_url',\n",
       "               'client_id',\n",
       "               'disable_ssl',\n",
       "               'header',\n",
       "               'session',\n",
       "               'timeout'),\n",
       "              '__dict__': <attribute '__dict__' of 'dhanhq' objects>,\n",
       "              '__weakref__': <attribute '__weakref__' of 'dhanhq' objects>})"
      ]
     },
     "execution_count": 391,
     "metadata": {},
     "output_type": "execute_result"
    }
   ],
   "source": [
    "dhanhq.__dict__"
   ]
  },
  {
   "cell_type": "code",
   "execution_count": null,
   "metadata": {},
   "outputs": [],
   "source": []
  }
 ],
 "metadata": {
  "kernelspec": {
   "display_name": "dhan",
   "language": "python",
   "name": "python3"
  },
  "language_info": {
   "codemirror_mode": {
    "name": "ipython",
    "version": 3
   },
   "file_extension": ".py",
   "mimetype": "text/x-python",
   "name": "python",
   "nbconvert_exporter": "python",
   "pygments_lexer": "ipython3",
   "version": "3.13.0"
  }
 },
 "nbformat": 4,
 "nbformat_minor": 2
}
