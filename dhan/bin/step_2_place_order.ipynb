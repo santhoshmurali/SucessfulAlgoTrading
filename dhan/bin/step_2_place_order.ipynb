{
 "cells": [
  {
   "cell_type": "code",
   "execution_count": null,
   "metadata": {},
   "outputs": [],
   "source": [
    "from dhanhq import dhanhq\n",
    "import yaml\n",
    "import pandas  as pd\n",
    "import numpy as np\n",
    "from dhanhq import marketfeed\n",
    "\n"
   ]
  },
  {
   "cell_type": "markdown",
   "metadata": {},
   "source": [
    "## Authentication"
   ]
  },
  {
   "cell_type": "code",
   "execution_count": null,
   "metadata": {},
   "outputs": [],
   "source": [
    "CONFIG_FILE_PATH = r\"..\\\\configs\\\\config.yaml\" #This has the API key and client id\n",
    "with open(CONFIG_FILE_PATH,'r') as config:\n",
    "    api_config = yaml.safe_load(config)\n",
    "APPLICAITON_ID = api_config.get('api_config')[0]\n",
    "CLIENT_ID = api_config.get('api_config')[1]\n",
    "ACCESS_TOKEN = api_config.get('api_config')[2]\n",
    "EXP_HOURS = api_config.get('api_config')[3]\n",
    "dhan = dhanhq(CLIENT_ID,ACCESS_TOKEN)"
   ]
  },
  {
   "cell_type": "markdown",
   "metadata": {},
   "source": [
    "## Getting other variables from configuration"
   ]
  },
  {
   "cell_type": "code",
   "execution_count": null,
   "metadata": {},
   "outputs": [],
   "source": [
    "OTHER_CONFIG_FILE_PATH = r\"..\\\\configs\\\\other_config.yaml\" # This we will configure all other variables\n",
    "with open(OTHER_CONFIG_FILE_PATH,'r') as other_configs:\n",
    "    gen_config = yaml.safe_load(other_configs)"
   ]
  },
  {
   "cell_type": "code",
   "execution_count": null,
   "metadata": {},
   "outputs": [],
   "source": [
    "strike_size = gen_config.get('strike_size')\n",
    "underlying = gen_config.get('index_file_metadata')\n",
    "options = gen_config.get('options_file_metadata')"
   ]
  },
  {
   "cell_type": "code",
   "execution_count": null,
   "metadata": {},
   "outputs": [],
   "source": [
    "underlying = pd.read_excel('underlying.xlsx')\n",
    "options = pd.read_excel('Options.xlsx')\n"
   ]
  },
  {
   "cell_type": "code",
   "execution_count": null,
   "metadata": {},
   "outputs": [],
   "source": [
    "UNDERLYING_INDEX = \"NIFTY\""
   ]
  },
  {
   "cell_type": "code",
   "execution_count": null,
   "metadata": {},
   "outputs": [],
   "source": [
    "def get_otms_itma(SPOT):\n",
    "    INDEX_CE_ITM = {\"ITM\" :\n",
    "    {\n",
    "        x : int(SPOT - ((SPOT%strike_size[UNDERLYING_INDEX]) + (x*strike_size[UNDERLYING_INDEX]))) for x in range(10)\n",
    "    }\n",
    "    }\n",
    "    INDEX_PE_ITM =  {\"ITM\" :\n",
    "    {\n",
    "        x : int(SPOT - ((SPOT%strike_size[UNDERLYING_INDEX]) - ((x+1)*strike_size[UNDERLYING_INDEX]))) for x in range(10)\n",
    "    }\n",
    "    }\n",
    "    \n",
    "    INDEX_ATM = SPOT - (SPOT%strike_size[UNDERLYING_INDEX])\n",
    "    return({\"CE\" : INDEX_CE_ITM, \"PE\" : INDEX_PE_ITM, \"ATM\":INDEX_ATM})\n",
    "    "
   ]
  },
  {
   "cell_type": "code",
   "execution_count": null,
   "metadata": {},
   "outputs": [],
   "source": []
  },
  {
   "cell_type": "code",
   "execution_count": 41,
   "metadata": {},
   "outputs": [],
   "source": [
    "def get_index_ltp(dhanO, INDEX):\n",
    "    INDEX_ID = str(underlying.loc[(underlying.SEM_TRADING_SYMBOL == INDEX),['SEM_SMST_SECURITY_ID']].squeeze())\n",
    "    INDEX_LTP = dhanO.ohlc_data(securities = {\"IDX_I\":[int(INDEX_ID)]})['data']['data']['IDX_I'][f'{INDEX_ID}']['last_price']\n",
    "    STRIKE_PRICES = get_otms_itma(INDEX_LTP)\n",
    "    return {\"INDEX\": INDEX, \"SPOT\": INDEX_LTP, \"STRIKES\":STRIKE_PRICES}\n",
    "\n",
    "    "
   ]
  },
  {
   "cell_type": "code",
   "execution_count": 42,
   "metadata": {},
   "outputs": [],
   "source": [
    "INDEX_LTP_STRIKE = get_index_ltp(dhan,UNDERLYING_INDEX)"
   ]
  },
  {
   "cell_type": "code",
   "execution_count": null,
   "metadata": {},
   "outputs": [],
   "source": [
    "INDEX_ID = underlying.loc[(underlying['SEM_TRADING_SYMBOL']==INDEX_LTP_STRIKE['INDEX']),'SEM_SMST_SECURITY_ID'].squeeze()"
   ]
  },
  {
   "cell_type": "code",
   "execution_count": 47,
   "metadata": {},
   "outputs": [
    {
     "data": {
      "text/plain": [
       "23300"
      ]
     },
     "execution_count": 47,
     "metadata": {},
     "output_type": "execute_result"
    }
   ],
   "source": [
    "INDEX_LTP_STRIKE['STRIKES']['CE']['ITM'][0]"
   ]
  },
  {
   "cell_type": "code",
   "execution_count": null,
   "metadata": {},
   "outputs": [],
   "source": [
    "dhan.ohlc_data()"
   ]
  },
  {
   "cell_type": "code",
   "execution_count": 51,
   "metadata": {},
   "outputs": [
    {
     "data": {
      "text/html": [
       "<div>\n",
       "<style scoped>\n",
       "    .dataframe tbody tr th:only-of-type {\n",
       "        vertical-align: middle;\n",
       "    }\n",
       "\n",
       "    .dataframe tbody tr th {\n",
       "        vertical-align: top;\n",
       "    }\n",
       "\n",
       "    .dataframe thead th {\n",
       "        text-align: right;\n",
       "    }\n",
       "</style>\n",
       "<table border=\"1\" class=\"dataframe\">\n",
       "  <thead>\n",
       "    <tr style=\"text-align: right;\">\n",
       "      <th></th>\n",
       "      <th>SEM_SMST_SECURITY_ID</th>\n",
       "      <th>SEM_LOT_UNITS</th>\n",
       "      <th>SEM_CUSTOM_SYMBOL</th>\n",
       "      <th>SEM_STRIKE_PRICE</th>\n",
       "      <th>SEM_OPTION_TYPE</th>\n",
       "      <th>SEM_UNDERLYING</th>\n",
       "      <th>Series</th>\n",
       "    </tr>\n",
       "  </thead>\n",
       "  <tbody>\n",
       "    <tr>\n",
       "      <th>921</th>\n",
       "      <td>43285</td>\n",
       "      <td>25</td>\n",
       "      <td>NIFTY 21 NOV 23300 CALL</td>\n",
       "      <td>23300</td>\n",
       "      <td>CE</td>\n",
       "      <td>NIFTY</td>\n",
       "      <td>C</td>\n",
       "    </tr>\n",
       "  </tbody>\n",
       "</table>\n",
       "</div>"
      ],
      "text/plain": [
       "     SEM_SMST_SECURITY_ID  SEM_LOT_UNITS        SEM_CUSTOM_SYMBOL  \\\n",
       "921                 43285             25  NIFTY 21 NOV 23300 CALL   \n",
       "\n",
       "     SEM_STRIKE_PRICE SEM_OPTION_TYPE SEM_UNDERLYING Series  \n",
       "921             23300              CE          NIFTY      C  "
      ]
     },
     "execution_count": 51,
     "metadata": {},
     "output_type": "execute_result"
    }
   ],
   "source": [
    "options[(options['SEM_STRIKE_PRICE']==INDEX_LTP_STRIKE['STRIKES']['CE']['ITM'][0]) & (options['SEM_OPTION_TYPE']=='CE') & (options['Series']=='C') ]"
   ]
  }
 ],
 "metadata": {
  "kernelspec": {
   "display_name": "dhan",
   "language": "python",
   "name": "python3"
  },
  "language_info": {
   "codemirror_mode": {
    "name": "ipython",
    "version": 3
   },
   "file_extension": ".py",
   "mimetype": "text/x-python",
   "name": "python",
   "nbconvert_exporter": "python",
   "pygments_lexer": "ipython3",
   "version": "3.13.0"
  }
 },
 "nbformat": 4,
 "nbformat_minor": 2
}
