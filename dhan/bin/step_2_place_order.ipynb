{
 "cells": [
  {
   "cell_type": "code",
   "execution_count": null,
   "metadata": {},
   "outputs": [],
   "source": [
    "from dhanhq import dhanhq\n",
    "import yaml\n",
    "import pandas  as pd\n",
    "import numpy as np\n",
    "\n"
   ]
  },
  {
   "cell_type": "markdown",
   "metadata": {},
   "source": [
    "## Authentication"
   ]
  },
  {
   "cell_type": "code",
   "execution_count": null,
   "metadata": {},
   "outputs": [],
   "source": [
    "CONFIG_FILE_PATH = r\"..\\\\configs\\\\config.yaml\" #This has the API key and client id\n",
    "with open(CONFIG_FILE_PATH,'r') as config:\n",
    "    api_config = yaml.safe_load(config)\n",
    "APPLICAITON_ID = api_config.get('api_config')[0]\n",
    "CLIENT_ID = api_config.get('api_config')[1]\n",
    "ACCESS_TOKEN = api_config.get('api_config')[2]\n",
    "EXP_HOURS = api_config.get('api_config')[3]\n",
    "dhan = dhanhq(CLIENT_ID,ACCESS_TOKEN)"
   ]
  },
  {
   "cell_type": "markdown",
   "metadata": {},
   "source": [
    "## Getting other variables from configuration"
   ]
  },
  {
   "cell_type": "code",
   "execution_count": null,
   "metadata": {},
   "outputs": [],
   "source": [
    "OTHER_CONFIG_FILE_PATH = r\"..\\\\configs\\\\other_config.yaml\" # This we will configure all other variables\n",
    "with open(OTHER_CONFIG_FILE_PATH,'r') as other_configs:\n",
    "    gen_config = yaml.safe_load(other_configs)"
   ]
  },
  {
   "cell_type": "code",
   "execution_count": null,
   "metadata": {},
   "outputs": [],
   "source": [
    "strike_size = gen_config.get('strike_size')\n",
    "underlying = gen_config.get('index_file_metadata')\n",
    "options = gen_config.get('options_file_metadata')"
   ]
  },
  {
   "cell_type": "code",
   "execution_count": 129,
   "metadata": {},
   "outputs": [],
   "source": [
    "underlying = pd.read_excel('underlying.xlsx')\n",
    "options = pd.read_excel('Options.xlsx')\n"
   ]
  },
  {
   "cell_type": "code",
   "execution_count": 130,
   "metadata": {},
   "outputs": [],
   "source": [
    "UNDERLYING_INDEX = \"NIFTY\""
   ]
  },
  {
   "cell_type": "code",
   "execution_count": 183,
   "metadata": {},
   "outputs": [],
   "source": [
    "def get_otms_itma(SPOT):\n",
    "    INDEX_CE_ITM = {\"ITM\" :\n",
    "    {\n",
    "        x : SPOT - ((SPOT%strike_size[UNDERLYING_INDEX]) + (x*strike_size[UNDERLYING_INDEX])) for x in range(10)\n",
    "    }\n",
    "    }\n",
    "    INDEX_PE_ITM =  {\"ITM\" :\n",
    "    {\n",
    "        x : SPOT - ((SPOT%strike_size[UNDERLYING_INDEX]) - ((x+1)*strike_size[UNDERLYING_INDEX])) for x in range(10)\n",
    "    }\n",
    "    }\n",
    "    INDEX_ATM = SPOT - (SPOT%strike_size[UNDERLYING_INDEX])\n",
    "    return({\"CE\" : INDEX_CE_ITM, \"PE\" : INDEX_PE_ITM, \"ATM\":INDEX_ATM})\n",
    "    "
   ]
  },
  {
   "cell_type": "code",
   "execution_count": 184,
   "metadata": {},
   "outputs": [],
   "source": [
    "def get_index_ltp(dhanO, INDEX):\n",
    "    INDEX_ID = str(underlying.loc[(underlying.SEM_TRADING_SYMBOL == INDEX),['SEM_SMST_SECURITY_ID']].squeeze())\n",
    "    INDEX_LTP = dhanO.ohlc_data(securities = {\"IDX_I\":[int(INDEX_ID)]})['data']['data']['IDX_I'][f'{INDEX_ID}']['last_price']\n",
    "    STRIKE_PRICES = get_otms_itma(INDEX_LTP)\n",
    "    return {\"INDEX\": INDEX, \"SPOT\": INDEX_LTP, \"STRIKES\":STRIKE_PRICES}\n",
    "\n",
    "    "
   ]
  },
  {
   "cell_type": "code",
   "execution_count": 185,
   "metadata": {},
   "outputs": [],
   "source": [
    "INDEX_LTP_STRIKE = get_index_ltp(dhan,UNDERLYING_INDEX)"
   ]
  },
  {
   "cell_type": "code",
   "execution_count": 186,
   "metadata": {},
   "outputs": [
    {
     "data": {
      "text/plain": [
       "{'INDEX': 'NIFTY',\n",
       " 'SPOT': 23883.45,\n",
       " 'STRIKES': {'CE': {'ITM': {0: 23850.0,\n",
       "    1: 23800.0,\n",
       "    2: 23750.0,\n",
       "    3: 23700.0,\n",
       "    4: 23650.0,\n",
       "    5: 23600.0,\n",
       "    6: 23550.0,\n",
       "    7: 23500.0,\n",
       "    8: 23450.0,\n",
       "    9: 23400.0}},\n",
       "  'PE': {'ITM': {0: 23900.0,\n",
       "    1: 23950.0,\n",
       "    2: 24000.0,\n",
       "    3: 24050.0,\n",
       "    4: 24100.0,\n",
       "    5: 24150.0,\n",
       "    6: 24200.0,\n",
       "    7: 24250.0,\n",
       "    8: 24300.0,\n",
       "    9: 24350.0}},\n",
       "  'ATM': 23850.0}}"
      ]
     },
     "execution_count": 186,
     "metadata": {},
     "output_type": "execute_result"
    }
   ],
   "source": [
    "INDEX_LTP_STRIKE"
   ]
  },
  {
   "cell_type": "code",
   "execution_count": 187,
   "metadata": {},
   "outputs": [
    {
     "data": {
      "text/plain": [
       "33.45000000000073"
      ]
     },
     "execution_count": 187,
     "metadata": {},
     "output_type": "execute_result"
    }
   ],
   "source": [
    "23883.45%50"
   ]
  },
  {
   "cell_type": "code",
   "execution_count": 188,
   "metadata": {},
   "outputs": [
    {
     "data": {
      "text/plain": [
       "23850"
      ]
     },
     "execution_count": 188,
     "metadata": {},
     "output_type": "execute_result"
    }
   ],
   "source": [
    "23883 - 33"
   ]
  },
  {
   "cell_type": "code",
   "execution_count": null,
   "metadata": {},
   "outputs": [],
   "source": []
  }
 ],
 "metadata": {
  "kernelspec": {
   "display_name": "dhan_env",
   "language": "python",
   "name": "python3"
  },
  "language_info": {
   "codemirror_mode": {
    "name": "ipython",
    "version": 3
   },
   "file_extension": ".py",
   "mimetype": "text/x-python",
   "name": "python",
   "nbconvert_exporter": "python",
   "pygments_lexer": "ipython3",
   "version": "3.13.0"
  }
 },
 "nbformat": 4,
 "nbformat_minor": 2
}
