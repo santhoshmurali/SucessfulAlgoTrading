{
 "cells": [
  {
   "cell_type": "code",
   "execution_count": 2,
   "metadata": {},
   "outputs": [],
   "source": [
    "from os import access\n",
    "import xlwings as xw\n",
    "from connect_to_dhan import Connection\n",
    "from dhanhq import dhanhq\n",
    "import numpy as np\n",
    "import pandas as pd\n",
    "from dhanhq import marketfeed\n",
    "import yaml\n",
    "import time\n",
    "\n"
   ]
  },
  {
   "cell_type": "code",
   "execution_count": 3,
   "metadata": {},
   "outputs": [],
   "source": [
    "\n",
    "\"\"\" configuring the workbook and getting the security info\n",
    "\"\"\"\n",
    "# Load Excel file\n",
    "excel_file = 'DhanTrading.xlsx'\n",
    "workbook = xw.Book(excel_file)\n",
    "TradeSheet = workbook.sheets['Trade']\n",
    "OptionsLookUp = workbook.sheets['OptionsLookUp'] \n",
    "IndexLookup = workbook.sheets['IndexLookup']"
   ]
  },
  {
   "cell_type": "code",
   "execution_count": 4,
   "metadata": {},
   "outputs": [],
   "source": [
    "def option_age(x):  # This function will classify the options strike if it belongs to Current series, Next series or Far next.\n",
    "    if x == 1.0:\n",
    "        return 'C'  # Current series\n",
    "    elif x == 2.0:\n",
    "        return 'N'  # Next Series\n",
    "    else:\n",
    "        return 'F'  # Far next series\n",
    "\n",
    "def connect_to_dhan():\n",
    "    config_file_path = r\".\\\\config\\\\config.yaml\" #This has the API key and client id\n",
    "    with open(config_file_path,'r') as config:\n",
    "        api_config = yaml.safe_load(config)\n",
    "    clinet_id = api_config.get('api_config')[1]\n",
    "    access_token = api_config.get('api_config')[2]\n",
    "\n",
    "    # Establish connection to Dhan\n",
    "    try:\n",
    "        DhanConnector = Connection(clinet_id, access_token)\n",
    "        ConnectionObject = DhanConnector.connect_dhan()\n",
    "        dhan = ConnectionObject['conn']\n",
    "    except Exception as e :\n",
    "        raise ConnectionError(f\"Can't connect {e}\")  \n",
    "\n",
    "    return({\"connection\":dhan,\n",
    "            \"client_id\":clinet_id,\n",
    "            \"access_token\":access_token})    "
   ]
  },
  {
   "cell_type": "markdown",
   "metadata": {},
   "source": [
    "Configure the sheets"
   ]
  },
  {
   "cell_type": "code",
   "execution_count": 5,
   "metadata": {},
   "outputs": [],
   "source": [
    "def initial_sheet_config():\n",
    "    connections__= connect_to_dhan() #returned as dictionary but accessed like a list\n",
    "    dhan = connections__['connection']\n",
    "    client_id = connections__['client_id']\n",
    "    access_token = connections__['access_token']\n",
    "    # Load the latest keys and scripts metadata automatically\n",
    "    security_list = dhan.fetch_security_list(\"compact\")\n",
    "    #--------------------------------------------------------------------------------------------\n",
    "    # index\n",
    "    #--------------------------------------------------------------------------------------------\n",
    "    mcx_fut =  security_list[(security_list['SEM_EXM_EXCH_ID']=='MCX') & \n",
    "                                (security_list['SM_SYMBOL_NAME']=='CRUDEOIL') & \n",
    "                                (security_list['SEM_INSTRUMENT_NAME']=='FUTCOM')]\n",
    "    index = security_list[(security_list['SEM_INSTRUMENT_NAME'] == 'INDEX') & (\n",
    "        (security_list['SEM_TRADING_SYMBOL']=='BANKNIFTY') |\n",
    "        (security_list['SEM_TRADING_SYMBOL']=='NIFTY')) & (security_list['SEM_SEGMENT']=='I')]\n",
    "    filtered_df_index = pd.concat([mcx_fut,index])\n",
    "    filtered_df_index = filtered_df_index.copy()\n",
    "    filtered_df_index['SEM_TRADING_SYMBOL']= [x[0] for x in filtered_df_index.SEM_TRADING_SYMBOL.str.split('-')]\n",
    "\n",
    "    filtered_df_index['Rank'] = filtered_df_index.groupby('SEM_EXM_EXCH_ID')['SEM_EXPIRY_DATE'].rank(method='dense', ascending=True)\n",
    "    filtered_df_index = filtered_df_index[(filtered_df_index['Rank']==1.0) | (np.isnan(filtered_df_index['Rank']))]\n",
    "    IndexLookup.clear()\n",
    "    IndexLookup.range('A1').options(index=False).value = filtered_df_index[['SEM_TRADING_SYMBOL','SEM_SMST_SECURITY_ID']]\n",
    "    #--------------------------------------------------------------------------------------------\n",
    "    # Filter for only NIFTY and BANKNIFTY OPTIONS and MCX\n",
    "    #--------------------------------------------------------------------------------------------\n",
    "    NSE = security_list[(\n",
    "        (security_list['SEM_EXM_EXCH_ID'] == 'NSE') & \n",
    "        (security_list['SEM_INSTRUMENT_NAME'] == 'OPTIDX') & \n",
    "        ((security_list['SEM_TRADING_SYMBOL'].str.startswith('BANKNIFTY')) | \n",
    "            (security_list['SEM_TRADING_SYMBOL'].str.startswith('NIFTY')))\n",
    "        &\n",
    "        (security_list['SEM_TRADING_SYMBOL'].str.startswith('NIFTYNXT50') == False)\n",
    "    )]    \n",
    "    MCX = security_list[(security_list['SEM_EXM_EXCH_ID'] == 'MCX') & \n",
    "                        (security_list['SEM_INSTRUMENT_NAME'] == 'OPTFUT') & \n",
    "                        (security_list['SM_SYMBOL_NAME'] == 'CRUDEOIL')]\n",
    "\n",
    "    filtered_df = pd.concat([NSE, MCX])\n",
    "    filtered_df = filtered_df.copy()  \n",
    "\n",
    "    # Below logic will help us to classify the Series type {C - Current, N - Next and F - Future}\n",
    "    filtered_df['SEM_EXPIRY_DATE_CUSTOM'] = np.nan\n",
    "    filtered_df['SEM_EXPIRY_DATE_CUSTOM'] = pd.to_datetime(filtered_df.SEM_EXPIRY_DATE)\n",
    "    filtered_df['SEM_UNDERLYING'] = [x[0] for x in filtered_df.SEM_CUSTOM_SYMBOL.str.split(' ')]\n",
    "    filtered_df['Rank'] = filtered_df.groupby('SEM_UNDERLYING')['SEM_EXPIRY_DATE_CUSTOM'].rank(method='dense', ascending=True)\n",
    "    filtered_df['Series'] = filtered_df['Rank'].apply(option_age)\n",
    "\n",
    "    filtered_df = filtered_df[filtered_df['Series'] == 'C'].copy(deep=True)\n",
    "    filtered_df['SEM_STRIKE_PRICE'] = filtered_df['SEM_STRIKE_PRICE'].astype(int)\n",
    "    filtered_df = filtered_df[['SEM_SMST_SECURITY_ID','SEM_UNDERLYING','SEM_OPTION_TYPE','SEM_STRIKE_PRICE']].copy(deep=True)\n",
    "    filtered_df['Series'] = filtered_df['SEM_UNDERLYING']+\"_\"+filtered_df['SEM_OPTION_TYPE']+\"_\"+filtered_df['SEM_STRIKE_PRICE'].astype(str)\n",
    "    OptionsLookUp.clear()\n",
    "    OptionsLookUp.range('A1').options(index=False).value = filtered_df[['Series','SEM_SMST_SECURITY_ID']]"
   ]
  },
  {
   "cell_type": "code",
   "execution_count": null,
   "metadata": {},
   "outputs": [],
   "source": [
    "def refresh_instruments():\n",
    "    index_key = TradeSheet.range(\"IndexKey\").value\n",
    "    atm_key = TradeSheet.range(\"ATM_KEY\").value\n",
    "    itm_1_key = TradeSheet.range(\"ITM_ONE_KEY\").value\n",
    "    itm_2_key = TradeSheet.range(\"ITM_TWO_KEY\").value\n",
    "    itm_3_key = TradeSheet.range(\"ITM_THREE_KEY\").value\n",
    "    return([index_key,atm_key,itm_1_key,itm_2_key,itm_3_key])"
   ]
  }
 ],
 "metadata": {
  "kernelspec": {
   "display_name": "dhan",
   "language": "python",
   "name": "python3"
  },
  "language_info": {
   "codemirror_mode": {
    "name": "ipython",
    "version": 3
   },
   "file_extension": ".py",
   "mimetype": "text/x-python",
   "name": "python",
   "nbconvert_exporter": "python",
   "pygments_lexer": "ipython3",
   "version": "3.13.0"
  }
 },
 "nbformat": 4,
 "nbformat_minor": 2
}
